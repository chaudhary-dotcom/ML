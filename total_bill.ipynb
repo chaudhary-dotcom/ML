{
 "cells": [
  {
   "cell_type": "code",
   "execution_count": 2,
   "id": "73a66786",
   "metadata": {},
   "outputs": [],
   "source": [
    "import numpy as np\n",
    "import pandas as pd\n",
    "import matplotlib.pyplot as plt\n",
    "import seaborn as sns\n"
   ]
  },
  {
   "cell_type": "code",
   "execution_count": 3,
   "id": "041f3553",
   "metadata": {},
   "outputs": [],
   "source": [
    "df = sns.load_dataset('tips')"
   ]
  },
  {
   "cell_type": "code",
   "execution_count": 4,
   "id": "90654d6a",
   "metadata": {},
   "outputs": [
    {
     "data": {
      "text/html": [
       "<div>\n",
       "<style scoped>\n",
       "    .dataframe tbody tr th:only-of-type {\n",
       "        vertical-align: middle;\n",
       "    }\n",
       "\n",
       "    .dataframe tbody tr th {\n",
       "        vertical-align: top;\n",
       "    }\n",
       "\n",
       "    .dataframe thead th {\n",
       "        text-align: right;\n",
       "    }\n",
       "</style>\n",
       "<table border=\"1\" class=\"dataframe\">\n",
       "  <thead>\n",
       "    <tr style=\"text-align: right;\">\n",
       "      <th></th>\n",
       "      <th>total_bill</th>\n",
       "      <th>tip</th>\n",
       "      <th>sex</th>\n",
       "      <th>smoker</th>\n",
       "      <th>day</th>\n",
       "      <th>time</th>\n",
       "      <th>size</th>\n",
       "    </tr>\n",
       "  </thead>\n",
       "  <tbody>\n",
       "    <tr>\n",
       "      <th>0</th>\n",
       "      <td>16.99</td>\n",
       "      <td>1.01</td>\n",
       "      <td>Female</td>\n",
       "      <td>No</td>\n",
       "      <td>Sun</td>\n",
       "      <td>Dinner</td>\n",
       "      <td>2</td>\n",
       "    </tr>\n",
       "    <tr>\n",
       "      <th>1</th>\n",
       "      <td>10.34</td>\n",
       "      <td>1.66</td>\n",
       "      <td>Male</td>\n",
       "      <td>No</td>\n",
       "      <td>Sun</td>\n",
       "      <td>Dinner</td>\n",
       "      <td>3</td>\n",
       "    </tr>\n",
       "    <tr>\n",
       "      <th>2</th>\n",
       "      <td>21.01</td>\n",
       "      <td>3.50</td>\n",
       "      <td>Male</td>\n",
       "      <td>No</td>\n",
       "      <td>Sun</td>\n",
       "      <td>Dinner</td>\n",
       "      <td>3</td>\n",
       "    </tr>\n",
       "    <tr>\n",
       "      <th>3</th>\n",
       "      <td>23.68</td>\n",
       "      <td>3.31</td>\n",
       "      <td>Male</td>\n",
       "      <td>No</td>\n",
       "      <td>Sun</td>\n",
       "      <td>Dinner</td>\n",
       "      <td>2</td>\n",
       "    </tr>\n",
       "    <tr>\n",
       "      <th>4</th>\n",
       "      <td>24.59</td>\n",
       "      <td>3.61</td>\n",
       "      <td>Female</td>\n",
       "      <td>No</td>\n",
       "      <td>Sun</td>\n",
       "      <td>Dinner</td>\n",
       "      <td>4</td>\n",
       "    </tr>\n",
       "  </tbody>\n",
       "</table>\n",
       "</div>"
      ],
      "text/plain": [
       "   total_bill   tip     sex smoker  day    time  size\n",
       "0       16.99  1.01  Female     No  Sun  Dinner     2\n",
       "1       10.34  1.66    Male     No  Sun  Dinner     3\n",
       "2       21.01  3.50    Male     No  Sun  Dinner     3\n",
       "3       23.68  3.31    Male     No  Sun  Dinner     2\n",
       "4       24.59  3.61  Female     No  Sun  Dinner     4"
      ]
     },
     "execution_count": 4,
     "metadata": {},
     "output_type": "execute_result"
    }
   ],
   "source": [
    "df.head()"
   ]
  },
  {
   "cell_type": "code",
   "execution_count": 5,
   "id": "7a64cde4",
   "metadata": {},
   "outputs": [
    {
     "name": "stdout",
     "output_type": "stream",
     "text": [
      "<class 'pandas.core.frame.DataFrame'>\n",
      "RangeIndex: 244 entries, 0 to 243\n",
      "Data columns (total 7 columns):\n",
      " #   Column      Non-Null Count  Dtype   \n",
      "---  ------      --------------  -----   \n",
      " 0   total_bill  244 non-null    float64 \n",
      " 1   tip         244 non-null    float64 \n",
      " 2   sex         244 non-null    category\n",
      " 3   smoker      244 non-null    category\n",
      " 4   day         244 non-null    category\n",
      " 5   time        244 non-null    category\n",
      " 6   size        244 non-null    int64   \n",
      "dtypes: category(4), float64(2), int64(1)\n",
      "memory usage: 7.4 KB\n"
     ]
    }
   ],
   "source": [
    "df.info()"
   ]
  },
  {
   "cell_type": "code",
   "execution_count": 6,
   "id": "89d81e8d",
   "metadata": {},
   "outputs": [
    {
     "data": {
      "text/plain": [
       "1"
      ]
     },
     "execution_count": 6,
     "metadata": {},
     "output_type": "execute_result"
    }
   ],
   "source": [
    "df.duplicated().sum()"
   ]
  },
  {
   "cell_type": "code",
   "execution_count": 7,
   "id": "f9f0a26f",
   "metadata": {},
   "outputs": [],
   "source": [
    "df.drop_duplicates(inplace=True)"
   ]
  },
  {
   "cell_type": "code",
   "execution_count": 8,
   "id": "658e9761",
   "metadata": {},
   "outputs": [
    {
     "data": {
      "text/plain": [
       "(243, 7)"
      ]
     },
     "execution_count": 8,
     "metadata": {},
     "output_type": "execute_result"
    }
   ],
   "source": [
    "df.shape"
   ]
  },
  {
   "cell_type": "code",
   "execution_count": 9,
   "id": "703a111d",
   "metadata": {},
   "outputs": [
    {
     "data": {
      "text/html": [
       "<div>\n",
       "<style scoped>\n",
       "    .dataframe tbody tr th:only-of-type {\n",
       "        vertical-align: middle;\n",
       "    }\n",
       "\n",
       "    .dataframe tbody tr th {\n",
       "        vertical-align: top;\n",
       "    }\n",
       "\n",
       "    .dataframe thead th {\n",
       "        text-align: right;\n",
       "    }\n",
       "</style>\n",
       "<table border=\"1\" class=\"dataframe\">\n",
       "  <thead>\n",
       "    <tr style=\"text-align: right;\">\n",
       "      <th></th>\n",
       "      <th>count</th>\n",
       "      <th>mean</th>\n",
       "      <th>std</th>\n",
       "      <th>min</th>\n",
       "      <th>25%</th>\n",
       "      <th>50%</th>\n",
       "      <th>75%</th>\n",
       "      <th>max</th>\n",
       "    </tr>\n",
       "  </thead>\n",
       "  <tbody>\n",
       "    <tr>\n",
       "      <th>total_bill</th>\n",
       "      <td>243.0</td>\n",
       "      <td>19.813868</td>\n",
       "      <td>8.910071</td>\n",
       "      <td>3.07</td>\n",
       "      <td>13.38</td>\n",
       "      <td>17.81</td>\n",
       "      <td>24.175</td>\n",
       "      <td>50.81</td>\n",
       "    </tr>\n",
       "    <tr>\n",
       "      <th>tip</th>\n",
       "      <td>243.0</td>\n",
       "      <td>3.002387</td>\n",
       "      <td>1.385002</td>\n",
       "      <td>1.00</td>\n",
       "      <td>2.00</td>\n",
       "      <td>2.92</td>\n",
       "      <td>3.575</td>\n",
       "      <td>10.00</td>\n",
       "    </tr>\n",
       "    <tr>\n",
       "      <th>size</th>\n",
       "      <td>243.0</td>\n",
       "      <td>2.572016</td>\n",
       "      <td>0.952356</td>\n",
       "      <td>1.00</td>\n",
       "      <td>2.00</td>\n",
       "      <td>2.00</td>\n",
       "      <td>3.000</td>\n",
       "      <td>6.00</td>\n",
       "    </tr>\n",
       "  </tbody>\n",
       "</table>\n",
       "</div>"
      ],
      "text/plain": [
       "            count       mean       std   min    25%    50%     75%    max\n",
       "total_bill  243.0  19.813868  8.910071  3.07  13.38  17.81  24.175  50.81\n",
       "tip         243.0   3.002387  1.385002  1.00   2.00   2.92   3.575  10.00\n",
       "size        243.0   2.572016  0.952356  1.00   2.00   2.00   3.000   6.00"
      ]
     },
     "execution_count": 9,
     "metadata": {},
     "output_type": "execute_result"
    }
   ],
   "source": [
    "df.describe().T"
   ]
  },
  {
   "cell_type": "code",
   "execution_count": 10,
   "id": "e17f19ad",
   "metadata": {},
   "outputs": [],
   "source": [
    "from sklearn.model_selection import train_test_split   # dividing data into training and for testing \n",
    "from sklearn.preprocessing import LabelEncoder   #convert categorical into int\n",
    "from sklearn.impute import SimpleImputer    #handaling missing values\n",
    "from sklearn.pipeline import Pipeline   #for automation\n",
    "from sklearn.preprocessing import StandardScaler       #standardizig\n",
    "from sklearn.preprocessing import OneHotEncoder #convert categorical to numerical\n",
    "from sklearn.compose import ColumnTransformer   #differnt preprocessing steps to different columns\n",
    "from sklearn.ensemble import RandomForestRegressor  #algorithms or Model\n",
    "from sklearn.linear_model import LinearRegression   #algorithms or Model\n",
    "from sklearn.tree import DecisionTreeRegressor  #algorithms or Model\n",
    "from sklearn.metrics import mean_squared_error, r2_score    #To check performance of model\n",
    "from sklearn.neighbors import KNeighborsRegressor   #algorithms or models\n",
    "from sklearn.model_selection import GridSearchCV   #for hyperpyrameter tuning\n"
   ]
  },
  {
   "cell_type": "code",
   "execution_count": 11,
   "id": "d0655b20",
   "metadata": {},
   "outputs": [
    {
     "name": "stdout",
     "output_type": "stream",
     "text": [
      "<class 'pandas.core.frame.DataFrame'>\n",
      "Index: 243 entries, 0 to 243\n",
      "Data columns (total 7 columns):\n",
      " #   Column      Non-Null Count  Dtype   \n",
      "---  ------      --------------  -----   \n",
      " 0   total_bill  243 non-null    float64 \n",
      " 1   tip         243 non-null    float64 \n",
      " 2   sex         243 non-null    category\n",
      " 3   smoker      243 non-null    category\n",
      " 4   day         243 non-null    category\n",
      " 5   time        243 non-null    category\n",
      " 6   size        243 non-null    int64   \n",
      "dtypes: category(4), float64(2), int64(1)\n",
      "memory usage: 9.1 KB\n"
     ]
    }
   ],
   "source": [
    "df.info()"
   ]
  },
  {
   "cell_type": "code",
   "execution_count": 12,
   "id": "f5a7de2b",
   "metadata": {},
   "outputs": [],
   "source": [
    "categorical_col = ['sex', 'smoker', 'day', 'time']\n",
    "numerical_col = ['tip', 'size']"
   ]
  },
  {
   "cell_type": "code",
   "execution_count": 13,
   "id": "97bb0620",
   "metadata": {},
   "outputs": [],
   "source": [
    "# Feature engeniring automation \n",
    "# numerical Pipeline \n",
    "num_pipeline = Pipeline(\n",
    "    steps=[\n",
    "    ('imputer', SimpleImputer(strategy='median')),  #Handaling missing values\n",
    "    ('scaler', StandardScaler())    #feature scaling\n",
    "])\n",
    "\n",
    "# categorical Pipeline \n",
    "cat_pipeline = Pipeline(\n",
    "    steps=[\n",
    "    ('imputer', SimpleImputer(strategy='most_frequent')),\n",
    "    ('oneHotEncoder', OneHotEncoder(handle_unknown='ignore'))\n",
    "])"
   ]
  },
  {
   "cell_type": "code",
   "execution_count": 14,
   "id": "d7bccf1f",
   "metadata": {},
   "outputs": [],
   "source": [
    "# combine into column transfer \n",
    "preprocessor = ColumnTransformer([\n",
    "    ('num', num_pipeline, numerical_col),\n",
    "    ('catego', cat_pipeline, categorical_col)\n",
    "])"
   ]
  },
  {
   "cell_type": "code",
   "execution_count": 15,
   "id": "061029a8",
   "metadata": {},
   "outputs": [],
   "source": [
    "#Define models and hyperparameter grids\n",
    "models = {\n",
    "    'Linear Regression': {\n",
    "        'model': LinearRegression(),\n",
    "        'params': {}\n",
    "        },\n",
    "    'Random Forest': {\n",
    "        'model': RandomForestRegressor(random_state=42),\n",
    "        'params': {\n",
    "            'regressor__n_estimators': [50,100,150],\n",
    "            'regressor__max_depth':[None, 5, 10],\n",
    "            'regressor__min_samples_split': [2, 5]\n",
    "        }\n",
    "    },\n",
    "    'Decision Tree': {\n",
    "        'model' : DecisionTreeRegressor(random_state=42),\n",
    "        'params': {\n",
    "            'regressor__max_depth': [None, 5, 10],\n",
    "            'regressor__min_samples_split': [2,5]\n",
    "        }\n",
    "    },\n",
    "   \n",
    "    \n",
    "}"
   ]
  },
  {
   "cell_type": "code",
   "execution_count": 16,
   "id": "fa894f26",
   "metadata": {},
   "outputs": [],
   "source": [
    "# Features and target \n",
    "X = df.drop('total_bill', axis=1)\n",
    "y = df['total_bill']"
   ]
  },
  {
   "cell_type": "code",
   "execution_count": 17,
   "id": "ade6057c",
   "metadata": {},
   "outputs": [],
   "source": [
    "#train test split\n",
    "X_train, X_test, y_train, y_test = train_test_split(X, y, test_size=0.2, random_state=42)"
   ]
  },
  {
   "cell_type": "code",
   "execution_count": null,
   "id": "718321df",
   "metadata": {},
   "outputs": [],
   "source": [
    "results = {}\n",
    "\n",
    "for name, config in models.items():\n",
    "    pipe = Pipeline([\n",
    "        ('preprocessor', preprocessor),\n",
    "        ('regressor', config['model'])\n",
    "    ])\n",
    "\n",
    "    grid = GridSearchCV(pipe, config['params'], cv=5, scoring='r2', n_jobs=-1)\n",
    "    grid.fit(X_train, y_train)\n",
    "\n",
    "    best_model = grid.best_estimator_\n",
    "    y_pred = best_model.predict(X_test)\n",
    "\n",
    "    r2 = r2_score(y_test, y_pred)\n",
    "    mse = mean_squared_error(y_test, y_pred)\n",
    "\n",
    "\n",
    "    results[name] = {\n",
    "        'Best Params': grid.best_params_,\n",
    "        'R2 score': r2,\n",
    "        'MSE':mse\n",
    "    }"
   ]
  },
  {
   "cell_type": "code",
   "execution_count": 22,
   "id": "e275fc31",
   "metadata": {},
   "outputs": [
    {
     "name": "stdout",
     "output_type": "stream",
     "text": [
      "Model performance comparision:\n",
      "\n",
      "Linear Regression    --> R2 score: 0.6190, MSE:34.2715\n",
      "Best Params: {}\n",
      "Random Forest        --> R2 score: 0.5759, MSE:38.1489\n",
      "Best Params: {'regressor__max_depth': 5, 'regressor__min_samples_split': 5, 'regressor__n_estimators': 50}\n",
      "Decision Tree        --> R2 score: 0.5580, MSE:39.7564\n",
      "Best Params: {'regressor__max_depth': 5, 'regressor__min_samples_split': 2}\n"
     ]
    }
   ],
   "source": [
    "#Print results\n",
    "print('Model performance comparision:\\n')\n",
    "for name, score in results.items():\n",
    "    print(f\"{name: <20} --> R2 score: {score['R2 score']:.4f}, MSE:{score['MSE']:.4f}\")\n",
    "    print(f\"Best Params: {score['Best Params']}\")"
   ]
  },
  {
   "cell_type": "code",
   "execution_count": 20,
   "id": "479b7375",
   "metadata": {},
   "outputs": [
    {
     "data": {
      "text/html": [
       "<div>\n",
       "<style scoped>\n",
       "    .dataframe tbody tr th:only-of-type {\n",
       "        vertical-align: middle;\n",
       "    }\n",
       "\n",
       "    .dataframe tbody tr th {\n",
       "        vertical-align: top;\n",
       "    }\n",
       "\n",
       "    .dataframe thead th {\n",
       "        text-align: right;\n",
       "    }\n",
       "</style>\n",
       "<table border=\"1\" class=\"dataframe\">\n",
       "  <thead>\n",
       "    <tr style=\"text-align: right;\">\n",
       "      <th></th>\n",
       "      <th>Best Params</th>\n",
       "      <th>R2 score</th>\n",
       "      <th>MSE</th>\n",
       "    </tr>\n",
       "  </thead>\n",
       "  <tbody>\n",
       "    <tr>\n",
       "      <th>Linear Regression</th>\n",
       "      <td>{}</td>\n",
       "      <td>0.618962</td>\n",
       "      <td>34.27149</td>\n",
       "    </tr>\n",
       "    <tr>\n",
       "      <th>Random Forest</th>\n",
       "      <td>{'regressor__max_depth': 5, 'regressor__min_sa...</td>\n",
       "      <td>0.575853</td>\n",
       "      <td>38.14886</td>\n",
       "    </tr>\n",
       "    <tr>\n",
       "      <th>Decision Tree</th>\n",
       "      <td>{'regressor__max_depth': 5, 'regressor__min_sa...</td>\n",
       "      <td>0.55798</td>\n",
       "      <td>39.756354</td>\n",
       "    </tr>\n",
       "  </tbody>\n",
       "</table>\n",
       "</div>"
      ],
      "text/plain": [
       "                                                         Best Params  \\\n",
       "Linear Regression                                                 {}   \n",
       "Random Forest      {'regressor__max_depth': 5, 'regressor__min_sa...   \n",
       "Decision Tree      {'regressor__max_depth': 5, 'regressor__min_sa...   \n",
       "\n",
       "                   R2 score        MSE  \n",
       "Linear Regression  0.618962   34.27149  \n",
       "Random Forest      0.575853   38.14886  \n",
       "Decision Tree       0.55798  39.756354  "
      ]
     },
     "execution_count": 20,
     "metadata": {},
     "output_type": "execute_result"
    }
   ],
   "source": [
    "results_df = pd.DataFrame(results).T\n",
    "results_df"
   ]
  },
  {
   "cell_type": "code",
   "execution_count": 33,
   "id": "28509054",
   "metadata": {},
   "outputs": [
    {
     "data": {
      "text/html": [
       "<div>\n",
       "<style scoped>\n",
       "    .dataframe tbody tr th:only-of-type {\n",
       "        vertical-align: middle;\n",
       "    }\n",
       "\n",
       "    .dataframe tbody tr th {\n",
       "        vertical-align: top;\n",
       "    }\n",
       "\n",
       "    .dataframe thead th {\n",
       "        text-align: right;\n",
       "    }\n",
       "</style>\n",
       "<table border=\"1\" class=\"dataframe\">\n",
       "  <thead>\n",
       "    <tr style=\"text-align: right;\">\n",
       "      <th></th>\n",
       "      <th>Best Params</th>\n",
       "      <th>R2 score</th>\n",
       "      <th>MSE</th>\n",
       "    </tr>\n",
       "  </thead>\n",
       "  <tbody>\n",
       "    <tr>\n",
       "      <th>Linear Regression</th>\n",
       "      <td>{}</td>\n",
       "      <td>0.618962</td>\n",
       "      <td>34.27149</td>\n",
       "    </tr>\n",
       "    <tr>\n",
       "      <th>Random Forest</th>\n",
       "      <td>{'regressor__max_depth': 5, 'regressor__min_sa...</td>\n",
       "      <td>0.575853</td>\n",
       "      <td>38.14886</td>\n",
       "    </tr>\n",
       "    <tr>\n",
       "      <th>Decision Tree</th>\n",
       "      <td>{'regressor__max_depth': 5, 'regressor__min_sa...</td>\n",
       "      <td>0.55798</td>\n",
       "      <td>39.756354</td>\n",
       "    </tr>\n",
       "  </tbody>\n",
       "</table>\n",
       "</div>"
      ],
      "text/plain": [
       "                                                         Best Params  \\\n",
       "Linear Regression                                                 {}   \n",
       "Random Forest      {'regressor__max_depth': 5, 'regressor__min_sa...   \n",
       "Decision Tree      {'regressor__max_depth': 5, 'regressor__min_sa...   \n",
       "\n",
       "                   R2 score        MSE  \n",
       "Linear Regression  0.618962   34.27149  \n",
       "Random Forest      0.575853   38.14886  \n",
       "Decision Tree       0.55798  39.756354  "
      ]
     },
     "execution_count": 33,
     "metadata": {},
     "output_type": "execute_result"
    }
   ],
   "source": [
    "# Sort by r2 in descending order \n",
    "results_df_sorted = results_df.sort_values(by='R2 score', ascending=False)\n",
    "results_df_sorted"
   ]
  },
  {
   "cell_type": "code",
   "execution_count": 35,
   "id": "3d359b6c",
   "metadata": {},
   "outputs": [
    {
     "data": {
      "image/png": "[encoded data removed]",
      "text/plain": [
       "<Figure size 1000x500 with 1 Axes>"
      ]
     },
     "metadata": {},
     "output_type": "display_data"
    }
   ],
   "source": [
    "results_df_sorted['R2 score'].plot(kind='bar', figsize=(10, 5), color='skyblue')\n",
    "plt.title('Model R2 score Comparision')\n",
    "plt.xlabel('Model')\n",
    "plt.ylabel('R2 score')\n",
    "plt.xticks(rotation = 45)\n",
    "plt.grid(True)\n",
    "plt.tight_layout()\n",
    "plt.show()"
   ]
  },
  {
   "cell_type": "code",
   "execution_count": 48,
   "id": "f98b9dbf",
   "metadata": {},
   "outputs": [
    {
     "data": {
      "text/html": [
       "<div>\n",
       "<style scoped>\n",
       "    .dataframe tbody tr th:only-of-type {\n",
       "        vertical-align: middle;\n",
       "    }\n",
       "\n",
       "    .dataframe tbody tr th {\n",
       "        vertical-align: top;\n",
       "    }\n",
       "\n",
       "    .dataframe thead th {\n",
       "        text-align: right;\n",
       "    }\n",
       "</style>\n",
       "<table border=\"1\" class=\"dataframe\">\n",
       "  <thead>\n",
       "    <tr style=\"text-align: right;\">\n",
       "      <th></th>\n",
       "      <th>Actual</th>\n",
       "      <th>predicted</th>\n",
       "    </tr>\n",
       "  </thead>\n",
       "  <tbody>\n",
       "    <tr>\n",
       "      <th>6</th>\n",
       "      <td>8.77</td>\n",
       "      <td>13.463953</td>\n",
       "    </tr>\n",
       "    <tr>\n",
       "      <th>9</th>\n",
       "      <td>14.78</td>\n",
       "      <td>18.225000</td>\n",
       "    </tr>\n",
       "    <tr>\n",
       "      <th>10</th>\n",
       "      <td>10.27</td>\n",
       "      <td>13.463953</td>\n",
       "    </tr>\n",
       "    <tr>\n",
       "      <th>15</th>\n",
       "      <td>21.58</td>\n",
       "      <td>18.225000</td>\n",
       "    </tr>\n",
       "    <tr>\n",
       "      <th>16</th>\n",
       "      <td>10.33</td>\n",
       "      <td>14.490000</td>\n",
       "    </tr>\n",
       "    <tr>\n",
       "      <th>18</th>\n",
       "      <td>16.97</td>\n",
       "      <td>22.366250</td>\n",
       "    </tr>\n",
       "    <tr>\n",
       "      <th>19</th>\n",
       "      <td>20.65</td>\n",
       "      <td>22.366250</td>\n",
       "    </tr>\n",
       "    <tr>\n",
       "      <th>24</th>\n",
       "      <td>19.82</td>\n",
       "      <td>18.225000</td>\n",
       "    </tr>\n",
       "    <tr>\n",
       "      <th>25</th>\n",
       "      <td>17.81</td>\n",
       "      <td>19.351250</td>\n",
       "    </tr>\n",
       "    <tr>\n",
       "      <th>30</th>\n",
       "      <td>9.55</td>\n",
       "      <td>13.463953</td>\n",
       "    </tr>\n",
       "    <tr>\n",
       "      <th>33</th>\n",
       "      <td>20.69</td>\n",
       "      <td>19.351250</td>\n",
       "    </tr>\n",
       "    <tr>\n",
       "      <th>38</th>\n",
       "      <td>18.69</td>\n",
       "      <td>19.351250</td>\n",
       "    </tr>\n",
       "    <tr>\n",
       "      <th>45</th>\n",
       "      <td>18.29</td>\n",
       "      <td>18.225000</td>\n",
       "    </tr>\n",
       "    <tr>\n",
       "      <th>60</th>\n",
       "      <td>20.29</td>\n",
       "      <td>23.623333</td>\n",
       "    </tr>\n",
       "    <tr>\n",
       "      <th>66</th>\n",
       "      <td>16.45</td>\n",
       "      <td>14.392000</td>\n",
       "    </tr>\n",
       "    <tr>\n",
       "      <th>67</th>\n",
       "      <td>3.07</td>\n",
       "      <td>13.463953</td>\n",
       "    </tr>\n",
       "    <tr>\n",
       "      <th>73</th>\n",
       "      <td>25.28</td>\n",
       "      <td>32.680000</td>\n",
       "    </tr>\n",
       "    <tr>\n",
       "      <th>75</th>\n",
       "      <td>10.51</td>\n",
       "      <td>13.463953</td>\n",
       "    </tr>\n",
       "    <tr>\n",
       "      <th>82</th>\n",
       "      <td>10.07</td>\n",
       "      <td>13.463953</td>\n",
       "    </tr>\n",
       "    <tr>\n",
       "      <th>93</th>\n",
       "      <td>16.32</td>\n",
       "      <td>25.210000</td>\n",
       "    </tr>\n",
       "    <tr>\n",
       "      <th>96</th>\n",
       "      <td>27.28</td>\n",
       "      <td>16.268333</td>\n",
       "    </tr>\n",
       "    <tr>\n",
       "      <th>108</th>\n",
       "      <td>18.24</td>\n",
       "      <td>18.225000</td>\n",
       "    </tr>\n",
       "    <tr>\n",
       "      <th>111</th>\n",
       "      <td>7.25</td>\n",
       "      <td>13.463953</td>\n",
       "    </tr>\n",
       "    <tr>\n",
       "      <th>112</th>\n",
       "      <td>38.07</td>\n",
       "      <td>25.970000</td>\n",
       "    </tr>\n",
       "    <tr>\n",
       "      <th>113</th>\n",
       "      <td>23.95</td>\n",
       "      <td>13.713333</td>\n",
       "    </tr>\n",
       "    <tr>\n",
       "      <th>117</th>\n",
       "      <td>10.65</td>\n",
       "      <td>13.463953</td>\n",
       "    </tr>\n",
       "    <tr>\n",
       "      <th>126</th>\n",
       "      <td>8.52</td>\n",
       "      <td>13.463953</td>\n",
       "    </tr>\n",
       "    <tr>\n",
       "      <th>127</th>\n",
       "      <td>14.52</td>\n",
       "      <td>13.463953</td>\n",
       "    </tr>\n",
       "    <tr>\n",
       "      <th>137</th>\n",
       "      <td>14.15</td>\n",
       "      <td>13.463953</td>\n",
       "    </tr>\n",
       "    <tr>\n",
       "      <th>150</th>\n",
       "      <td>14.07</td>\n",
       "      <td>14.392000</td>\n",
       "    </tr>\n",
       "    <tr>\n",
       "      <th>152</th>\n",
       "      <td>17.26</td>\n",
       "      <td>19.351250</td>\n",
       "    </tr>\n",
       "    <tr>\n",
       "      <th>155</th>\n",
       "      <td>29.85</td>\n",
       "      <td>32.778333</td>\n",
       "    </tr>\n",
       "    <tr>\n",
       "      <th>161</th>\n",
       "      <td>12.66</td>\n",
       "      <td>14.392000</td>\n",
       "    </tr>\n",
       "    <tr>\n",
       "      <th>164</th>\n",
       "      <td>17.51</td>\n",
       "      <td>23.623333</td>\n",
       "    </tr>\n",
       "    <tr>\n",
       "      <th>167</th>\n",
       "      <td>31.71</td>\n",
       "      <td>29.120000</td>\n",
       "    </tr>\n",
       "    <tr>\n",
       "      <th>170</th>\n",
       "      <td>50.81</td>\n",
       "      <td>48.330000</td>\n",
       "    </tr>\n",
       "    <tr>\n",
       "      <th>175</th>\n",
       "      <td>32.90</td>\n",
       "      <td>23.623333</td>\n",
       "    </tr>\n",
       "    <tr>\n",
       "      <th>180</th>\n",
       "      <td>34.65</td>\n",
       "      <td>26.875000</td>\n",
       "    </tr>\n",
       "    <tr>\n",
       "      <th>185</th>\n",
       "      <td>20.69</td>\n",
       "      <td>38.031429</td>\n",
       "    </tr>\n",
       "    <tr>\n",
       "      <th>195</th>\n",
       "      <td>7.56</td>\n",
       "      <td>13.463953</td>\n",
       "    </tr>\n",
       "    <tr>\n",
       "      <th>196</th>\n",
       "      <td>10.34</td>\n",
       "      <td>13.463953</td>\n",
       "    </tr>\n",
       "    <tr>\n",
       "      <th>210</th>\n",
       "      <td>30.06</td>\n",
       "      <td>29.380000</td>\n",
       "    </tr>\n",
       "    <tr>\n",
       "      <th>216</th>\n",
       "      <td>28.15</td>\n",
       "      <td>29.380000</td>\n",
       "    </tr>\n",
       "    <tr>\n",
       "      <th>218</th>\n",
       "      <td>7.74</td>\n",
       "      <td>13.463953</td>\n",
       "    </tr>\n",
       "    <tr>\n",
       "      <th>228</th>\n",
       "      <td>13.28</td>\n",
       "      <td>18.225000</td>\n",
       "    </tr>\n",
       "    <tr>\n",
       "      <th>233</th>\n",
       "      <td>10.77</td>\n",
       "      <td>13.463953</td>\n",
       "    </tr>\n",
       "    <tr>\n",
       "      <th>237</th>\n",
       "      <td>32.83</td>\n",
       "      <td>13.463953</td>\n",
       "    </tr>\n",
       "    <tr>\n",
       "      <th>239</th>\n",
       "      <td>29.03</td>\n",
       "      <td>32.778333</td>\n",
       "    </tr>\n",
       "    <tr>\n",
       "      <th>241</th>\n",
       "      <td>22.67</td>\n",
       "      <td>13.463953</td>\n",
       "    </tr>\n",
       "  </tbody>\n",
       "</table>\n",
       "</div>"
      ],
      "text/plain": [
       "     Actual  predicted\n",
       "6      8.77  13.463953\n",
       "9     14.78  18.225000\n",
       "10    10.27  13.463953\n",
       "15    21.58  18.225000\n",
       "16    10.33  14.490000\n",
       "18    16.97  22.366250\n",
       "19    20.65  22.366250\n",
       "24    19.82  18.225000\n",
       "25    17.81  19.351250\n",
       "30     9.55  13.463953\n",
       "33    20.69  19.351250\n",
       "38    18.69  19.351250\n",
       "45    18.29  18.225000\n",
       "60    20.29  23.623333\n",
       "66    16.45  14.392000\n",
       "67     3.07  13.463953\n",
       "73    25.28  32.680000\n",
       "75    10.51  13.463953\n",
       "82    10.07  13.463953\n",
       "93    16.32  25.210000\n",
       "96    27.28  16.268333\n",
       "108   18.24  18.225000\n",
       "111    7.25  13.463953\n",
       "112   38.07  25.970000\n",
       "113   23.95  13.713333\n",
       "117   10.65  13.463953\n",
       "126    8.52  13.463953\n",
       "127   14.52  13.463953\n",
       "137   14.15  13.463953\n",
       "150   14.07  14.392000\n",
       "152   17.26  19.351250\n",
       "155   29.85  32.778333\n",
       "161   12.66  14.392000\n",
       "164   17.51  23.623333\n",
       "167   31.71  29.120000\n",
       "170   50.81  48.330000\n",
       "175   32.90  23.623333\n",
       "180   34.65  26.875000\n",
       "185   20.69  38.031429\n",
       "195    7.56  13.463953\n",
       "196   10.34  13.463953\n",
       "210   30.06  29.380000\n",
       "216   28.15  29.380000\n",
       "218    7.74  13.463953\n",
       "228   13.28  18.225000\n",
       "233   10.77  13.463953\n",
       "237   32.83  13.463953\n",
       "239   29.03  32.778333\n",
       "241   22.67  13.463953"
      ]
     },
     "execution_count": 48,
     "metadata": {},
     "output_type": "execute_result"
    }
   ],
   "source": [
    "# Showcasing the actual and prdicted in dataframe \n",
    "comparision_df = pd.DataFrame({\n",
    "    'Actual': y_test,\n",
    "    'predicted': y_pred\n",
    "})\n",
    "comparision_df.sort_index(ascending=True)"
   ]
  },
  {
   "cell_type": "code",
   "execution_count": 45,
   "id": "4d601e3f",
   "metadata": {},
   "outputs": [
    {
     "data": {
      "text/plain": [
       "'Linear Regression'"
      ]
     },
     "execution_count": 45,
     "metadata": {},
     "output_type": "execute_result"
    }
   ],
   "source": [
    "best_model_name = max(results, key=lambda x: results[x]['R2 score'])\n",
    "best_model_params = results[best_model_name]['Best Params']\n",
    "best_model_name"
   ]
  },
  {
   "cell_type": "code",
   "execution_count": 46,
   "id": "f3f2583c",
   "metadata": {},
   "outputs": [
    {
     "data": {
      "text/plain": [
       "19.78419328994056"
      ]
     },
     "execution_count": 46,
     "metadata": {},
     "output_type": "execute_result"
    }
   ],
   "source": [
    "y_pred.mean()"
   ]
  },
  {
   "cell_type": "code",
   "execution_count": 47,
   "id": "a7e76763",
   "metadata": {},
   "outputs": [
    {
     "data": {
      "text/plain": [
       "18.925714285714285"
      ]
     },
     "execution_count": 47,
     "metadata": {},
     "output_type": "execute_result"
    }
   ],
   "source": [
    "y_test.mean()"
   ]
  },
  {
   "cell_type": "code",
   "execution_count": null,
   "id": "42757ce0",
   "metadata": {},
   "outputs": [],
   "source": []
  }
 ],
 "metadata": {
  "kernelspec": {
   "display_name": "base",
   "language": "python",
   "name": "python3"
  },
  "language_info": {
   "codemirror_mode": {
    "name": "ipython",
    "version": 3
   },
   "file_extension": ".py",
   "mimetype": "text/x-python",
   "name": "python",
   "nbconvert_exporter": "python",
   "pygments_lexer": "ipython3",
   "version": "3.12.7"
  }
 },
 "nbformat": 4,
 "nbformat_minor": 5
}
