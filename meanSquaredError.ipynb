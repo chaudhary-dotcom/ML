{
 "cells": [
  {
   "cell_type": "code",
   "execution_count": 1,
   "metadata": {},
   "outputs": [],
   "source": [
    "import numpy as np\n",
    "import pandas as pd\n",
    "from sklearn.metrics import mean_squared_error\n"
   ]
  },
  {
   "cell_type": "code",
   "execution_count": 2,
   "metadata": {},
   "outputs": [],
   "source": [
    "# Actual and predicated values \n",
    "y_actual = [3, -0.5, 2,7]\n",
    "y_pred = [2.5, 0.0, 2, 8]"
   ]
  },
  {
   "cell_type": "code",
   "execution_count": 5,
   "metadata": {},
   "outputs": [
    {
     "name": "stdout",
     "output_type": "stream",
     "text": [
      "Mean squared error:  0.375\n"
     ]
    }
   ],
   "source": [
    "# Compute MSE \n",
    "mse = mean_squared_error(y_actual, y_pred)\n",
    "print('Mean squared error: ', mse)"
   ]
  },
  {
   "cell_type": "code",
   "execution_count": 23,
   "metadata": {},
   "outputs": [
    {
     "name": "stdout",
     "output_type": "stream",
     "text": [
      "Mean squared error:  0.375\n"
     ]
    }
   ],
   "source": [
    "import numpy as np\n",
    "# Actual and predicated values \n",
    "y_actual = np.array([3, -0.5, 2,7])\n",
    "y_pred = np.array([2.5, 0.0, 2, 8])\n",
    "\n",
    "# Calculating MSE using numpy \n",
    "ms_e = np.mean((y_actual - y_pred) ** 2)\n",
    "print('Mean squared error: ', ms_e)"
   ]
  },
  {
   "cell_type": "code",
   "execution_count": 24,
   "metadata": {},
   "outputs": [
    {
     "name": "stderr",
     "output_type": "stream",
     "text": [
      "2025-04-01 14:05:51.127 \n",
      "  \u001b[33m\u001b[1mWarning:\u001b[0m to view this Streamlit app on a browser, run it with the following\n",
      "  command:\n",
      "\n",
      "    streamlit run c:\\Users\\user\\anaconda3\\Lib\\site-packages\\ipykernel_launcher.py [ARGUMENTS]\n",
      "2025-04-01 14:05:51.127 Session state does not function when running a script without `streamlit run`\n"
     ]
    },
    {
     "data": {
      "text/plain": [
       "DeltaGenerator()"
      ]
     },
     "execution_count": 24,
     "metadata": {},
     "output_type": "execute_result"
    }
   ],
   "source": [
    "import streamlit as st\n",
    "import numpy as np\n",
    "import pandas as pd\n",
    "import matplotlib.pyplot as plt\n",
    "from sklearn.model_selection import train_test_split\n",
    "from sklearn.linear_model import LinearRegression\n",
    "from sklearn.metrics import mean_squared_error\n",
    "\n",
    "# Streamlit App Title\n",
    "st.title(\"Linear Regression with MSE Calculation\")\n",
    "\n",
    "# Generate Synthetic Data or Upload CSV\n",
    "data_option = st.radio(\"Choose Data Source:\", (\"Generate Synthetic Data\", \"Upload CSV\"))\n",
    "\n",
    "if data_option == \"Generate Synthetic Data\":\n",
    "    np.random.seed(42)\n",
    "    X = 2 * np.random.rand(100, 1)\n",
    "    y = 4 + 3 * X + np.random.randn(100, 1)  # y = 4 + 3X + noise\n",
    "    df = pd.DataFrame(np.hstack((X, y)), columns=['X', 'y'])\n",
    "else:\n",
    "    uploaded_file = st.file_uploader(\"Upload a CSV file\", type=[\"csv\"])\n",
    "    if uploaded_file:\n",
    "        df = pd.read_csv(uploaded_file)\n",
    "        st.write(\"Preview of Uploaded Data:\", df.head())\n",
    "    else:\n",
    "        st.warning(\"Please upload a CSV file.\")\n",
    "        st.stop()\n",
    "\n",
    "# Splitting Data\n",
    "X = df.iloc[:, :-1].values  # Features (all columns except last)\n",
    "y = df.iloc[:, -1].values   # Target (last column)\n",
    "X_train, X_test, y_train, y_test = train_test_split(X, y, test_size=0.2, random_state=42)\n",
    "\n",
    "# Train the Linear Regression Model\n",
    "model = LinearRegression()\n",
    "model.fit(X_train, y_train)\n",
    "\n",
    "# Predictions\n",
    "y_pred = model.predict(X_test)\n",
    "\n",
    "# Compute MSE\n",
    "mse = mean_squared_error(y_test, y_pred)\n",
    "st.write(f\"### Mean Squared Error: {mse:.4f}\")\n",
    "\n",
    "# Plot Actual vs Predicted\n",
    "fig, ax = plt.subplots()\n",
    "ax.scatter(X_test, y_test, label=\"Actual\", color='blue')\n",
    "ax.scatter(X_test, y_pred, label=\"Predicted\", color='red', alpha=0.7)\n",
    "ax.plot(X_test, y_pred, color='green', linewidth=2)\n",
    "ax.set_xlabel(\"X\")\n",
    "ax.set_ylabel(\"y\")\n",
    "ax.set_title(\"Actual vs Predicted Values\")\n",
    "ax.legend()\n",
    "st.pyplot(fig)\n"
   ]
  }
 ],
 "metadata": {
  "kernelspec": {
   "display_name": "base",
   "language": "python",
   "name": "python3"
  },
  "language_info": {
   "codemirror_mode": {
    "name": "ipython",
    "version": 3
   },
   "file_extension": ".py",
   "mimetype": "text/x-python",
   "name": "python",
   "nbconvert_exporter": "python",
   "pygments_lexer": "ipython3",
   "version": "3.12.7"
  }
 },
 "nbformat": 4,
 "nbformat_minor": 2
}
